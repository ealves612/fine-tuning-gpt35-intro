{
 "cells": [
  {
   "cell_type": "code",
   "execution_count": 1,
   "id": "d4f5dc3b-6849-40ac-94d3-3a2d8d82c935",
   "metadata": {},
   "outputs": [],
   "source": [
    "import config"
   ]
  },
  {
   "cell_type": "code",
   "execution_count": 2,
   "id": "6762c32d-fa67-49b1-9045-a5203370bf37",
   "metadata": {},
   "outputs": [],
   "source": [
    "config.apiToken()"
   ]
  },
  {
   "cell_type": "code",
   "execution_count": 15,
   "id": "062db29f-80a0-4041-bfb2-29b70ed1f544",
   "metadata": {},
   "outputs": [],
   "source": [
    "from openai import OpenAI\n",
    "client = OpenAI()\n",
    "\n",
    "\n",
    "file_object = client.files.create(\n",
    "  file=open(\"train.jsonl\", \"rb\"),\n",
    "  purpose=\"fine-tune\"\n",
    ")\n",
    "\n",
    "file_id = file_object.id"
   ]
  },
  {
   "cell_type": "code",
   "execution_count": 16,
   "id": "a873c580-d473-4f5c-9651-d2f9b3490ce0",
   "metadata": {},
   "outputs": [],
   "source": [
    "from openai import OpenAI\n",
    "client = OpenAI()\n",
    "\n",
    "\n",
    "fine_tuning_job_response = client.fine_tuning.jobs.create(\n",
    "  training_file= file_id,\n",
    "  model=\"gpt-3.5-turbo\" #change to gpt-4-0613 if you have access\n",
    ")"
   ]
  },
  {
   "cell_type": "code",
   "execution_count": 17,
   "id": "e37a3ecc-ecd0-480a-ad44-64a0aa848228",
   "metadata": {},
   "outputs": [
    {
     "name": "stdout",
     "output_type": "stream",
     "text": [
      "ChatCompletionMessage(content='A loss function is a measure of how well a machine learning model is performing in terms of predicting the target variable. It quantifies the difference between the predicted output of the model and the actual target output. The goal is to minimize the value of the loss function in order to improve the accuracy of the model. There are different types of loss functions used in machine learning, such as mean squared error, cross-entropy loss, and hinge loss, among others. The choice of the loss function depends on the specific problem and the type of model being used.', refusal=None, role='assistant', audio=None, function_call=None, tool_calls=None)\n"
     ]
    }
   ],
   "source": [
    "completion = client.chat.completions.create(\n",
    "  model=config.model(),\n",
    "  messages=[\n",
    "    {\"role\": \"system\", \"content\": \"You are a teaching assistant for Machine Learning. You should help to user to answer on his question.\"},\n",
    "    {\"role\": \"user\", \"content\": \"What is a loss function?\"}\n",
    "  ]\n",
    ")\n",
    "print(completion.choices[0].message)"
   ]
  }
 ],
 "metadata": {
  "kernelspec": {
   "display_name": "Python 3 (ipykernel)",
   "language": "python",
   "name": "python3"
  },
  "language_info": {
   "codemirror_mode": {
    "name": "ipython",
    "version": 3
   },
   "file_extension": ".py",
   "mimetype": "text/x-python",
   "name": "python",
   "nbconvert_exporter": "python",
   "pygments_lexer": "ipython3",
   "version": "3.9.6"
  }
 },
 "nbformat": 4,
 "nbformat_minor": 5
}
